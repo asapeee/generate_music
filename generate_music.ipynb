{
  "cells": [
    {
      "cell_type": "code",
      "execution_count": null,
      "metadata": {
        "id": "ku0ui5lKwpF7"
      },
      "outputs": [],
      "source": [
        "!python3 -m pip install -U git+https://github.com/facebookresearch/audiocraft#egg=audiocraft\n",
        "# !python3 -m pip install -U audiocraft"
      ]
    },
    {
      "cell_type": "code",
      "execution_count": null,
      "metadata": {
        "id": "YVgeUMjoZaJH"
      },
      "outputs": [],
      "source": [
        "from audiocraft.models import musicgen\n",
        "from audiocraft.utils.notebook import display_audio\n",
        "from audiocraft.data.audio import audio_write\n",
        "import torch\n",
        "import scipy"
      ]
    },
    {
      "cell_type": "code",
      "execution_count": null,
      "metadata": {
        "id": "yc_FYhbWZufi"
      },
      "outputs": [],
      "source": [
        "# MusicGenの学習済みモデルをロード\n",
        "model_music = musicgen.MusicGen.get_pretrained('medium', device='cuda')\n",
        "\n",
        "# 生成する音楽の時間指定\n",
        "model_music.set_generation_params(duration=20)"
      ]
    },
    {
      "cell_type": "code",
      "execution_count": null,
      "metadata": {
        "id": "598ar4rXXIAt"
      },
      "outputs": [],
      "source": [
        "from google.colab import drive\n",
        "drive.mount('/content/drive')"
      ]
    },
    {
      "cell_type": "code",
      "execution_count": null,
      "metadata": {
        "id": "7S6amMfYXQ7r"
      },
      "outputs": [],
      "source": [
        "import locale\n",
        "locale.getpreferredencoding = lambda: \"UTF-8\"\n",
        "\n",
        "!pip install openmeteo_requests\n",
        "!pip install requests_cache\n",
        "!pip install retry_requests"
      ]
    },
    {
      "cell_type": "code",
      "execution_count": null,
      "metadata": {
        "id": "l85Hd6AoBeRk"
      },
      "outputs": [],
      "source": [
        "!pip install openai"
      ]
    },
    {
      "cell_type": "code",
      "execution_count": null,
      "metadata": {
        "id": "V--M-DLWXGA_"
      },
      "outputs": [],
      "source": [
        "# 天気予報APIで天気と外の気温，湿度を取得\n",
        "import openmeteo_requests\n",
        "\n",
        "import requests_cache\n",
        "import pandas as pd\n",
        "from retry_requests import retry\n",
        "\n",
        "# Setup the Open-Meteo API client with cache and retry on error\n",
        "cache_session = requests_cache.CachedSession('.cache', expire_after = 3600)\n",
        "retry_session = retry(cache_session, retries = 5, backoff_factor = 0.2)\n",
        "openmeteo = openmeteo_requests.Client(session = retry_session)\n",
        "\n",
        "# Make sure all required weather variables are listed here\n",
        "# The order of variables in hourly or daily is important to assign them correctly below\n",
        "url = \"https://api.open-meteo.com/v1/forecast\"\n",
        "params = {\n",
        "\t\"latitude\": 34.69,\n",
        "\t\"longitude\": 135.1955,\n",
        "\t\"current\": [\"temperature_2m\", \"relative_humidity_2m\", \"weather_code\"],\n",
        "\t\"timezone\": \"Asia/Tokyo\",\n",
        "\t\"forecast_days\": 1\n",
        "}\n",
        "responses = openmeteo.weather_api(url, params=params)\n",
        "\n",
        "# Process first location. Add a for-loop for multiple locations or weather models\n",
        "response = responses[0]\n",
        "\n",
        "# Current values. The order of variables needs to be the same as requested.\n",
        "current = response.Current()\n",
        "current_temperature_2m = int(current.Variables(0).Value())\n",
        "current_relative_humidity_2m = int(current.Variables(1).Value())\n",
        "current_weather_code = current.Variables(2).Value()\n",
        "\n",
        "if current_weather_code == 0:\n",
        "    current_weather = 'clear sky'\n",
        "elif current_weather_code == 1 or current_weather_code == 2 or current_weather_code == 3:\n",
        "    current_weather = 'partly cloudy'\n",
        "elif current_weather_code == 45 or current_weather_code == 48:\n",
        "    current_weather = 'fog'\n",
        "elif current_weather_code == 51 or current_weather_code == 53 or current_weather_code == 55:\n",
        "    current_weather = 'drizzle'\n",
        "elif current_weather_code == 56 or current_weather_code == 57:\n",
        "    current_weather = 'freezing drizzle'\n",
        "elif current_weather_code == 61 or current_weather_code == 63 or current_weather_code == 65:\n",
        "    current_weather = 'rain'\n",
        "elif current_weather_code == 66 or current_weather_code == 67:\n",
        "    current_weather = 'freezing rain'\n",
        "elif current_weather_code == 71 or current_weather_code == 73 or current_weather_code == 75:\n",
        "    current_weather = 'snow fall'\n",
        "elif current_weather_code == 77:\n",
        "    current_weather = 'snow grains'\n",
        "elif current_weather_code == 80 or current_weather_code == 81 or current_weather_code == 82:\n",
        "    current_weather = 'rain showers'\n",
        "elif current_weather_code == 85 or current_weather_code == 86:\n",
        "    current_weather = 'snow showes'\n",
        "elif current_weather_code == 95:\n",
        "    current_weather = 'thunderstorm'\n",
        "elif current_weather_code == 96 or current_weather_code == 99:\n",
        "    current_weather = 'thunderstorm with hail'\n",
        "else:\n",
        "    current_weather = \"\"\n",
        "\n",
        "\n",
        "def get_weather():\n",
        "    weather = f'{current_weather}, the outside temperature is {current_temperature_2m}°C with {current_relative_humidity_2m}% humidity'\n",
        "    return weather\n"
      ]
    },
    {
      "cell_type": "code",
      "execution_count": null,
      "metadata": {
        "id": "B1ZJ5PZeXPB5"
      },
      "outputs": [],
      "source": [
        "!pip install torch torchvision opencv-python"
      ]
    },
    {
      "cell_type": "code",
      "execution_count": null,
      "metadata": {
        "id": "eM7oGvlsXVqR"
      },
      "outputs": [],
      "source": [
        "import torch\n",
        "import torchvision\n",
        "model_detect = torchvision.models.detection.maskrcnn_resnet50_fpn(pretrained=True)"
      ]
    },
    {
      "cell_type": "code",
      "execution_count": null,
      "metadata": {
        "id": "0-gLLL5BXn6v"
      },
      "outputs": [],
      "source": [
        "# 物体検知用のラベル\n",
        "LABELS = [\n",
        "        \"unlabeled\",\n",
        "        \"person\",\n",
        "        \"bicycle\",\n",
        "        \"car\",\n",
        "        \"motorcycle\",\n",
        "        \"airplane\",\n",
        "        \"bus\",\n",
        "        \"train\",\n",
        "        \"truck\",\n",
        "        \"boat\",\n",
        "        \"traffic light\",\n",
        "        \"fire hydrant\",\n",
        "        \"street sign\",\n",
        "        \"stop sign\",\n",
        "        \"parking meter\",\n",
        "        \"bench\",\n",
        "        \"bird\",\n",
        "        \"cat\",\n",
        "        \"dog\",\n",
        "        \"horse\",\n",
        "        \"sheep\",\n",
        "        \"cow\",\n",
        "        \"elephant\",\n",
        "        \"bear\",\n",
        "        \"zebra\",\n",
        "        \"giraffe\",\n",
        "        \"hat\",\n",
        "        \"backpack\",\n",
        "        \"umbrella\",\n",
        "        \"shoe\",\n",
        "        \"eye glasses\",\n",
        "        \"handbag\",\n",
        "        \"tie\",\n",
        "        \"suitcase\",\n",
        "        \"frisbee\",\n",
        "        \"skis\",\n",
        "        \"snowboard\",\n",
        "        \"sports ball\",\n",
        "        \"kite\",\n",
        "        \"baseball bat\",\n",
        "        \"baseball glove\",\n",
        "        \"skateboard\",\n",
        "        \"surfboard\",\n",
        "        \"tennis racket\",\n",
        "        \"bottle\",\n",
        "        \"plate\",\n",
        "        \"wine glass\",\n",
        "        \"cup\",\n",
        "        \"fork\",\n",
        "        \"knife\",\n",
        "        \"spoon\",\n",
        "        \"bowl\",\n",
        "        \"banana\",\n",
        "        \"apple\",\n",
        "        \"sandwich\",\n",
        "        \"orange\",\n",
        "        \"broccoli\",\n",
        "        \"carrot\",\n",
        "        \"hot dog\",\n",
        "        \"pizza\",\n",
        "        \"donut\",\n",
        "        \"cake\",\n",
        "        \"chair\",\n",
        "        \"couch\",\n",
        "        \"potted plant\",\n",
        "        \"bed\",\n",
        "        \"mirror\",\n",
        "        \"dining table\",\n",
        "        \"window\",\n",
        "        \"desk\",\n",
        "        \"toilet\",\n",
        "        \"door\",\n",
        "        \"tv\",\n",
        "        \"laptop\",\n",
        "        \"mouse\",\n",
        "        \"remote\",\n",
        "        \"keyboard\",\n",
        "        \"cell phone\",\n",
        "        \"microwave\",\n",
        "        \"oven\",\n",
        "        \"toaster\",\n",
        "        \"sink\",\n",
        "        \"refrigerator\",\n",
        "        \"blender\",\n",
        "        \"book\",\n",
        "        \"clock\",\n",
        "        \"vase\",\n",
        "        \"scissors\",\n",
        "        \"teddy bear\",\n",
        "        \"hair drier\",\n",
        "        \"toothbrush\",\n",
        "    ]"
      ]
    },
    {
      "cell_type": "code",
      "execution_count": null,
      "metadata": {
        "id": "ubcXUnxEb3Sy"
      },
      "outputs": [],
      "source": [
        "# 写真撮影\n",
        "from IPython.display import display, Javascript\n",
        "from google.colab.output import eval_js\n",
        "from base64 import b64decode\n",
        "\n",
        "def take_photo(filename='photo.jpg', quality=0.8):\n",
        "  js = Javascript('''\n",
        "    async function takePhoto(quality) {\n",
        "      const div = document.createElement('div');\n",
        "      const capture = document.createElement('button');\n",
        "      capture.textContent = 'Capture';\n",
        "      div.appendChild(capture);\n",
        "\n",
        "      const video = document.createElement('video');\n",
        "      video.style.display = 'block';\n",
        "      const stream = await navigator.mediaDevices.getUserMedia({video: true});\n",
        "\n",
        "      document.body.appendChild(div);\n",
        "      div.appendChild(video);\n",
        "      video.srcObject = stream;\n",
        "      await video.play();\n",
        "\n",
        "      // Resize the output to fit the video element.\n",
        "      google.colab.output.setIframeHeight(document.documentElement.scrollHeight, true);\n",
        "\n",
        "      // Wait for Capture to be clicked.\n",
        "      // await new Promise((resolve) => capture.onclick = resolve);\n",
        "\n",
        "      const canvas = document.createElement('canvas');\n",
        "      canvas.width = video.videoWidth;\n",
        "      canvas.height = video.videoHeight;\n",
        "      canvas.getContext('2d').drawImage(video, 0, 0);\n",
        "      stream.getVideoTracks()[0].stop();\n",
        "      div.remove();\n",
        "      return canvas.toDataURL('image/jpeg', quality);\n",
        "    }\n",
        "    ''')\n",
        "  display(js)\n",
        "  data = eval_js('takePhoto({})'.format(quality))\n",
        "  binary = b64decode(data.split(',')[1])\n",
        "  with open(filename, 'wb') as f:\n",
        "    f.write(binary)\n",
        "  return filename"
      ]
    },
    {
      "cell_type": "code",
      "execution_count": null,
      "metadata": {
        "id": "t86OuXgZXuhA"
      },
      "outputs": [],
      "source": [
        "# 人数カウント\n",
        "import PIL.Image\n",
        "\n",
        "def count_people(path_photo):\n",
        "  labels = LABELS\n",
        "  image = PIL.Image.open(path_photo)\n",
        "  image_tensor = torchvision.transforms.functional.to_tensor(image)\n",
        "\n",
        "  model_detect_eval = model_detect.eval()\n",
        "  output = model_detect_eval([image_tensor])[0]\n",
        "\n",
        "  num_people = 0\n",
        "  for label, score in zip(output['labels'], output['scores']):\n",
        "    if score > 0.5 and labels[label] == 'person':\n",
        "      num_people += 1\n",
        "  print(f'number of people:{num_people}')\n",
        "\n",
        "  return num_people\n"
      ]
    },
    {
      "cell_type": "code",
      "execution_count": null,
      "metadata": {
        "id": "Q__LwElXBGVb"
      },
      "outputs": [],
      "source": [
        "# chatGPT API\n",
        "from openai import OpenAI\n",
        "\n",
        "client = OpenAI(api_key='')\n",
        "\n",
        "def get_chatgpt_response(message):\n",
        "    completion = client.chat.completions.create(\n",
        "        model=\"gpt-3.5-turbo\",\n",
        "        max_tokens=30,\n",
        "        presence_penalty=1.0,\n",
        "        frequency_penalty=1.0,\n",
        "        temperature=1,\n",
        "        messages=[\n",
        "            {\"role\": \"user\", \"content\": message}\n",
        "        ]\n",
        "    )\n",
        "\n",
        "    response = completion.choices[0].message.content\n",
        "    print(response)\n",
        "\n",
        "    return response"
      ]
    },
    {
      "cell_type": "code",
      "execution_count": null,
      "metadata": {
        "id": "skNNbR4hqfMp"
      },
      "outputs": [],
      "source": [
        "# 認証のためのコード\n",
        "from google.colab import auth\n",
        "auth.authenticate_user()\n",
        "\n",
        "import gspread\n",
        "from google.auth import default\n",
        "creds, _ = default()\n",
        "\n",
        "gc = gspread.authorize(creds)"
      ]
    },
    {
      "cell_type": "code",
      "execution_count": null,
      "metadata": {
        "id": "XWqwb01kq0o-"
      },
      "outputs": [],
      "source": [
        "## スプレッドシートを開く（名前から）\n",
        "def get_sensor_data():\n",
        "  filename = \"sensor_data\"\n",
        "  ss = gc.open(filename)\n",
        "\n",
        "  # 最終行の取得\n",
        "  st = ss.get_worksheet(0)\n",
        "  list_of_lists = st.get_all_values()\n",
        "  latest = len(list_of_lists)\n",
        "\n",
        "  print(f'Date_Master:{st.cell(latest, 1).value}')\n",
        "  print(f'Date:{st.cell(latest, 2).value}')\n",
        "\n",
        "  # 室内気温と室内湿度取得\n",
        "  print(f'latest indoor temperature:{st.cell(latest, 3).value}')\n",
        "  temperature_indoor = st.cell(latest, 3).value\n",
        "\n",
        "  print(f'latest indoor humidity:{st.cell(latest, 4).value}')\n",
        "  humidity_indoor = st.cell(latest, 4).value\n",
        "\n",
        "  # 明るさを取得\n",
        "  print(f'latest brightness:{st.cell(latest, 5).value}')\n",
        "  brightness = st.cell(latest, 5).value\n",
        "\n",
        "  print(f'Date_End:{st.cell(latest, 6).value}')\n",
        "\n",
        "  return temperature_indoor, humidity_indoor, brightness"
      ]
    },
    {
      "cell_type": "code",
      "execution_count": null,
      "metadata": {
        "id": "037cnitbcLfM"
      },
      "outputs": [],
      "source": [
        "from math import e\n",
        "from pydub import AudioSegment\n",
        "import soundfile as sf\n",
        "import datetime\n",
        "import shutil\n",
        "from pydub.playback import play\n",
        "import time\n",
        "import cv2\n",
        "\n",
        "# while 1:\n",
        "# 現在時刻と天気を取得\n",
        "dt_now = datetime.datetime.now()+ datetime.timedelta(hours=9)\n",
        "dt_now_str = dt_now.strftime('%Y %m/%d %H:%M')\n",
        "weather = get_weather()\n",
        "\n",
        "# センサデータを取得\n",
        "temperature_indoor, humidity_indoor, brightness = get_sensor_data()\n",
        "\n",
        "# 写真撮影\n",
        "try:\n",
        "  filename = take_photo()\n",
        "except Exception as err:\n",
        "  # Errors will be thrown if the user does not have a webcam or if they do not\n",
        "  # grant the page permission to access it.\n",
        "  print(str(err))\n",
        "\n",
        "# 人数カウント\n",
        "num_people = count_people('./photo.jpg')\n",
        "\n",
        "\n",
        "# chatGPTにテキストを入力\n",
        "message = f'{dt_now_str}, {weather}, indoor temperature is {temperature_indoor}°C with {humidity_indoor}% humidity, the brightness in the room is {brightness} lux, {num_people} people, \\nDescribe in 20 words the musical atmosphere suitable for this. '\n",
        "\n",
        "print(message)\n",
        "\n",
        "response = get_chatgpt_response(message)\n",
        "# response = message\n",
        "\n",
        "print(response)\n",
        "\n",
        "for i in range(3):   # 次のセンサ情報をchatGPTに入力するまで，同じ入力内容で何回か音楽を生成する\n",
        "  # 音楽生成\n",
        "  res = model_music.generate([response],\n",
        "      progress=True)\n",
        "  display_audio(res, model_music.sample_rate)\n",
        "\n",
        "\n",
        "  # ファイル名をここで設定\n",
        "  file_name = f'musicgen_out_{dt_now}_{i+1}'\n",
        "\n",
        "  audio_data_cpu = res[0].cpu().numpy()\n",
        "  audio_data_reshaped = audio_data_cpu.reshape(-1, 1)\n",
        "\n",
        "  # WAV形式で一時的に保存\n",
        "  temp_wav_path = '/content/' + file_name +'.wav'\n",
        "  sf.write(temp_wav_path, audio_data_reshaped, model_music.sample_rate)\n",
        "\n",
        "  # MP3形式に変換\n",
        "  audio_segment = AudioSegment.from_wav(temp_wav_path)\n",
        "  mp3_path = '/content/' + file_name +'.mp3'\n",
        "  audio_segment.export(mp3_path, format=\"mp3\")\n",
        "\n",
        "  # MP3形式で保存\n",
        "  destination_folder_path = '/content/drive/MyDrive/generate_music/playlist'\n",
        "  shutil.copy(mp3_path, destination_folder_path)\n"
      ]
    }
  ],
  "metadata": {
    "accelerator": "GPU",
    "colab": {
      "gpuType": "T4",
      "provenance": []
    },
    "kernelspec": {
      "display_name": "Python 3",
      "name": "python3"
    },
    "language_info": {
      "name": "python"
    }
  },
  "nbformat": 4,
  "nbformat_minor": 0
}
